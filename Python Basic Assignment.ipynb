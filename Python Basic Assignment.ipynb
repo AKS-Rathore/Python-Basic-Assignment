{
  "nbformat": 4,
  "nbformat_minor": 0,
  "metadata": {
    "colab": {
      "provenance": []
    },
    "kernelspec": {
      "name": "python3",
      "display_name": "Python 3"
    },
    "language_info": {
      "name": "python"
    }
  },
  "cells": [
    {
      "cell_type": "markdown",
      "source": [
        "**Python Basics**\n",
        "\n",
        "1. What is Python, and why is it popular?\n",
        "   - Python is a high level, Interpreted, object oriented, programming language. Developed by Guido Van Rossum in 1991.\n",
        "   Python is a versatile and intuitive and efficient language which is widely used in web aplications, software developement, data science and machine learning.\n",
        "\n",
        "2. What is an interpreter in Python?\n",
        "   - An interpreter is like a translator which converts the High level languages into the machine level language. Interpreter translates and executes the programm line by line.\n",
        "\n",
        "3. What are pre-defined keywords in Python?\n",
        "   - These keywords are reserved words that cannot be used as variable names, function names, or any other identifiers. Ex - True, False, if, while, else, for, and, or, break, continue etc.\n",
        "\n",
        "4. Can keywords be used as variable names?\n",
        "   - Technically they can be created as variable names but then those keywords original assigned work will not work. So it is better to not use keywords as variables names.\n",
        "   \n",
        "5. What is mutability in Python?\n",
        "   - Mutability is the ability to change the value of the stored data. list and dict are mutable objects in python.\n",
        "\n",
        "6.  Why are lists mutable, but tuples are immutable?\n",
        "   - Because we can change the value of data stored in the list later in the programm. while it is not possible for tuples.\n",
        "   \n",
        "7. What is the difference between “==” and “is” operators in Python?\n",
        "   - \"==\" operator is used to test if two variables are equal. Whereas \"is\" keyword is used to test if two variables refer to the same object.\n",
        "\n",
        "8. What are logical operators in Python?\n",
        "   - Logical operators are \"and\", \"or\", \"not\".\n",
        "\n",
        "9. What is type casting in Python?\n",
        "   - Type casting or coversion is a prcoess that convets a variable's data type into another data type. Functions like int(), float(), str() etc.\n",
        "\n",
        "10. What is the difference between implicit and explicit type casting?\n",
        "   - Implicit type casting is the default type casting. Python automatically converts the data type into other. Whereas Explicit type casting requires the users input Ex - converting float '2.5' into int will give '2'.\n",
        "\n",
        "11. What is the purpose of conditional statements in Python?\n",
        "   - Conditional statements instruct the computer on the descision to make when given some conditions. These statements help control the flow of a program, making it behave differently in different situations.\n",
        "\n",
        "12. How does the elif statement work?\n",
        "   - elif short of elseif is used to check multiple conditions. If the first condition is false then to move to the next elif statement to chech if it is true or not.\n",
        "\n",
        "13. What is the difference between for and while loops?\n",
        "   - for loop is suitable for a known number of iterations or when looping over ranges. Whereas while loop is useful when the number of iterations is not known in advance or based on a condition.\n",
        "\n",
        "14.  Describe a scenario where a while loop is more suitable than a for loop?\n",
        "   - while loop is preferable where you don't known in advance how many time you want to execute the block of code.     \n",
        "\n",
        "\n"
      ],
      "metadata": {
        "id": "HYdGN2afnm2l"
      }
    },
    {
      "cell_type": "code",
      "execution_count": 1,
      "metadata": {
        "colab": {
          "base_uri": "https://localhost:8080/"
        },
        "id": "Y_8w_lJ3nkbT",
        "outputId": "d379ec21-349b-470a-efaf-c04b6334dff6"
      },
      "outputs": [
        {
          "output_type": "stream",
          "name": "stdout",
          "text": [
            "Hello, World!\n"
          ]
        }
      ],
      "source": [
        "# 1.  Write a Python program to print \"Hello, World!\n",
        "print (\"Hello, World!\")"
      ]
    },
    {
      "cell_type": "code",
      "source": [
        "# 2.  Write a Python program that displays your name and age\n",
        "name = \"Ajay Singh\"\n",
        "age = 30\n",
        "print (\"Name -\", name)\n",
        "print()\n",
        "print (\"Age -\", age)"
      ],
      "metadata": {
        "colab": {
          "base_uri": "https://localhost:8080/"
        },
        "id": "po3n_cIV1Vtu",
        "outputId": "8f98d3ba-8ef9-4a40-c5b9-4df2f48c6f0c"
      },
      "execution_count": 8,
      "outputs": [
        {
          "output_type": "stream",
          "name": "stdout",
          "text": [
            "Name - Ajay Singh\n",
            "\n",
            "Age - 30\n"
          ]
        }
      ]
    },
    {
      "cell_type": "code",
      "source": [
        "# 3. Write code to print all the pre-defined keywords in Python using the keyword library\n",
        "import keyword\n",
        "print (\"The list of keywords is : \")\n",
        "print(keyword.kwlist)"
      ],
      "metadata": {
        "colab": {
          "base_uri": "https://localhost:8080/"
        },
        "id": "0hdO4Pc93J2Z",
        "outputId": "83d2117e-e271-472f-d306-f6634d492620"
      },
      "execution_count": 21,
      "outputs": [
        {
          "output_type": "stream",
          "name": "stdout",
          "text": [
            "The list of keywords is : \n",
            "['False', 'None', 'True', 'and', 'as', 'assert', 'async', 'await', 'break', 'class', 'continue', 'def', 'del', 'elif', 'else', 'except', 'finally', 'for', 'from', 'global', 'if', 'import', 'in', 'is', 'lambda', 'nonlocal', 'not', 'or', 'pass', 'raise', 'return', 'try', 'while', 'with', 'yield']\n"
          ]
        }
      ]
    },
    {
      "cell_type": "code",
      "source": [
        "# 4. Write a program that checks if a given word is a Python keyword.\n"
      ],
      "metadata": {
        "id": "WVYlrlKv3875"
      },
      "execution_count": null,
      "outputs": []
    },
    {
      "cell_type": "code",
      "source": [
        "# 5. Create a list and tuple in Python, and demonstrate how attempting to change an element works differently\n",
        "for each.\n",
        "# Not taught"
      ],
      "metadata": {
        "id": "do2M_OBD4l5E"
      },
      "execution_count": null,
      "outputs": []
    },
    {
      "cell_type": "code",
      "source": [
        "# 6. Write a function to demonstrate the behavior of mutable and immutable arguments.\n",
        "list = [2,7,25, 100, \"Ajay\", \"pwskills\"]\n",
        "print (\"Original List : \", list)\n",
        "string = \"immutable\"\n",
        "list[2] = 75\n",
        "# string[0] = \"I\"  It shows an error if we assign some other value to the variable. Hence immutable\n",
        "print (\"Changed List : \", list)\n",
        "print (\"String is : \", string)"
      ],
      "metadata": {
        "colab": {
          "base_uri": "https://localhost:8080/"
        },
        "id": "w84fwJpiCO5z",
        "outputId": "78d9b991-402f-4130-83b3-26f2eac44a90"
      },
      "execution_count": 17,
      "outputs": [
        {
          "output_type": "stream",
          "name": "stdout",
          "text": [
            "Original List :  [2, 7, 25, 100, 'Ajay', 'pwskills']\n",
            "Changed List :  [2, 7, 75, 100, 'Ajay', 'pwskills']\n",
            "String is :  immutable\n"
          ]
        }
      ]
    },
    {
      "cell_type": "code",
      "source": [
        "# 7. Write a program that performs basic arithmetic operations on two user-input numbers.\n",
        "a = int(input(\"Please enter a number : \"))\n",
        "b = int(input(\"Please enter second Number : \"))\n",
        "c = a*b\n",
        "print (\"Multiplication of both numbers is : \", c)"
      ],
      "metadata": {
        "colab": {
          "base_uri": "https://localhost:8080/"
        },
        "id": "jn2itHyQEx2u",
        "outputId": "59036830-e8f9-488e-b881-ba7fe3848bc8"
      },
      "execution_count": 19,
      "outputs": [
        {
          "output_type": "stream",
          "name": "stdout",
          "text": [
            "Please enter a number : 5\n",
            "Please enter second Number : 9\n",
            "Multiplication of both numbers is :  45\n"
          ]
        }
      ]
    },
    {
      "cell_type": "code",
      "source": [
        "# 8. . Write a program to demonstrate the use of logical operators.\n",
        "a = input(\"Do you have voter ID Card (Y/N): \")\n",
        "b =int(input(\"Enter Your Age : \"))\n",
        "if ((a == \"Y\")and(b >= 18)):\n",
        "    print (\"You are eligible to Vote\")\n",
        "else:\n",
        "        print (\"You are not eligible to Vote\")\n"
      ],
      "metadata": {
        "colab": {
          "base_uri": "https://localhost:8080/"
        },
        "id": "qc5LgMZTFslC",
        "outputId": "d091c269-9fdc-44eb-e01d-3c88161e8fcf"
      },
      "execution_count": 31,
      "outputs": [
        {
          "output_type": "stream",
          "name": "stdout",
          "text": [
            "Do you have voter ID Card (Y/N): N\n",
            "Enter Your Age : 78\n",
            "You are not eligible to Vote\n"
          ]
        }
      ]
    },
    {
      "cell_type": "code",
      "source": [
        "# 9. Write a Python program to convert user input from string to integer, float, and boolean types.\n",
        "a = \"5000\"\n",
        "print (type(a))\n",
        "b = int(a)\n",
        "print (type(b))\n",
        "c = float(a)\n",
        "print (type(c))\n",
        "d = bool(a)\n",
        "print (type(d))\n"
      ],
      "metadata": {
        "colab": {
          "base_uri": "https://localhost:8080/"
        },
        "id": "fVo-meWGIaod",
        "outputId": "469d7e1d-a03c-4ec4-e684-91f91319a5fa"
      },
      "execution_count": 36,
      "outputs": [
        {
          "output_type": "stream",
          "name": "stdout",
          "text": [
            "<class 'str'>\n",
            "<class 'int'>\n",
            "<class 'float'>\n",
            "<class 'bool'>\n"
          ]
        }
      ]
    },
    {
      "cell_type": "code",
      "source": [
        "# 10. Write code to demonstrate type casting with list elements.\n",
        "l = [5, 9.5, 20, \"Ajay\", \"5000\"]\n",
        "l[0] = float(l[0])\n",
        "print(l)\n",
        "l[1] = int(l[1])\n",
        "print (l)\n",
        "l[4] = int(l[4])\n",
        "print (l)\n"
      ],
      "metadata": {
        "colab": {
          "base_uri": "https://localhost:8080/"
        },
        "id": "5_MUv2JlKSGx",
        "outputId": "d01535ab-8764-4bf6-e4e3-f751d109a472"
      },
      "execution_count": 42,
      "outputs": [
        {
          "output_type": "stream",
          "name": "stdout",
          "text": [
            "[5.0, 9.5, 20, 'Ajay', '5000']\n",
            "[5.0, 9, 20, 'Ajay', '5000']\n",
            "[5.0, 9, 20, 'Ajay', 5000]\n"
          ]
        }
      ]
    },
    {
      "cell_type": "code",
      "source": [
        "# 11. Write a program that checks if a number is positive, negative, or zero.\n",
        "a = int(input(\"Please enter a number : \"))\n",
        "if (a > 0):\n",
        "    print (\"Number is Positive\")\n",
        "elif (a < 0):\n",
        "    print (\"Number is Negative\")\n",
        "else:\n",
        "    print (\"Number is Zero\")"
      ],
      "metadata": {
        "colab": {
          "base_uri": "https://localhost:8080/"
        },
        "id": "kswenKgaLy_g",
        "outputId": "51d502cb-2952-4efd-d501-93eb750aaf67"
      },
      "execution_count": 43,
      "outputs": [
        {
          "output_type": "stream",
          "name": "stdout",
          "text": [
            "Please enter a number : 56\n",
            "Number is Positive\n"
          ]
        }
      ]
    },
    {
      "cell_type": "code",
      "source": [
        "# 12. Write a for loop to print numbers from 1 to 10.\n",
        "a = range(1,11)\n",
        "for i in a:\n",
        "     print (i)"
      ],
      "metadata": {
        "colab": {
          "base_uri": "https://localhost:8080/"
        },
        "id": "kdPidJnQMAzM",
        "outputId": "4cb15c35-5f90-4050-fbd6-ec8bb730c157"
      },
      "execution_count": 49,
      "outputs": [
        {
          "output_type": "stream",
          "name": "stdout",
          "text": [
            "1\n",
            "2\n",
            "3\n",
            "4\n",
            "5\n",
            "6\n",
            "7\n",
            "8\n",
            "9\n",
            "10\n"
          ]
        }
      ]
    },
    {
      "cell_type": "code",
      "source": [
        "# 13. Write a Python program to find the sum of all even numbers between 1 and 50\n",
        "a = range(2,51,2)\n",
        "c = 0\n",
        "for i in a:\n",
        "    if(i<=50):\n",
        "      c = c+i\n",
        "print (\"Sum of even numbers between 1 and 50 is :\", c)\n"
      ],
      "metadata": {
        "colab": {
          "base_uri": "https://localhost:8080/"
        },
        "id": "qB1blpUdM7f8",
        "outputId": "5c554d6f-7b56-4692-dd7c-22e311607fb6"
      },
      "execution_count": 56,
      "outputs": [
        {
          "output_type": "stream",
          "name": "stdout",
          "text": [
            "Sum of even numbers between 1 and 50 is : 650\n"
          ]
        }
      ]
    },
    {
      "cell_type": "code",
      "source": [
        "# 14. Write a program to reverse a string using a while loop."
      ],
      "metadata": {
        "id": "tGpeW2gtOwqW"
      },
      "execution_count": null,
      "outputs": []
    },
    {
      "cell_type": "code",
      "source": [
        "# 15. Write a Python program to calculate the factorial of a number provided by the user using a while loop.\n",
        "a = input(\"Please enter a number : \")\n",
        "a = int(a)\n",
        "i = 1\n",
        "f = 1\n",
        "while (a>=i):\n",
        "  f= f*a\n",
        "  a = a-1\n",
        "print (\"Factorial of the number is : \", f)\n",
        "\n",
        "\n"
      ],
      "metadata": {
        "colab": {
          "base_uri": "https://localhost:8080/"
        },
        "id": "ou_MEGszWD4p",
        "outputId": "00c90aa8-c0b7-4ffd-cbab-185b94f1bdcb"
      },
      "execution_count": 62,
      "outputs": [
        {
          "output_type": "stream",
          "name": "stdout",
          "text": [
            "please enter a number : 0\n",
            "Factorial of the number is :  1\n"
          ]
        }
      ]
    }
  ]
}